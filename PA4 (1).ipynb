{
 "cells": [
  {
   "cell_type": "markdown",
   "id": "94933911",
   "metadata": {},
   "source": [
    "* Grade Calculator"
   ]
  },
  {
   "cell_type": "code",
   "execution_count": 24,
   "id": "db0e89b4",
   "metadata": {},
   "outputs": [
    {
     "name": "stdout",
     "output_type": "stream",
     "text": [
      "80.8\n",
      "You grade has been calculated...\n",
      "You got a B\n"
     ]
    }
   ],
   "source": [
    "grades=[82, 90, 65, 73, 94]\n",
    "Avg=(sum(grades)/len(grades))\n",
    "print(Avg)\n",
    "if Avg>=1 and Avg<=100:\n",
    "    print(\"You grade has been calculated...\")\n",
    "    if Avg>=90 and Avg<=100:\n",
    "        print(\"You got an A\")\n",
    "    if Avg<=89 and Avg>=80:\n",
    "        print(\"You got a B\")\n",
    "    if Avg>=70 and Avg<=79:\n",
    "        print(\"You got a C\")\n",
    "    if Avg>=60 and Avg<=69:\n",
    "        print(\"You got a D\")\n",
    "else:\n",
    "    print(\"You got an F\")"
   ]
  },
  {
   "cell_type": "markdown",
   "id": "dc0661dd",
   "metadata": {},
   "source": [
    "* Tuple Unpacking"
   ]
  },
  {
   "cell_type": "code",
   "execution_count": 26,
   "id": "d2bb882f",
   "metadata": {},
   "outputs": [],
   "source": [
    "student=(\"AJ\", \"Rallo\", 18, \"math\")"
   ]
  },
  {
   "cell_type": "code",
   "execution_count": 33,
   "id": "fb22a220",
   "metadata": {},
   "outputs": [
    {
     "name": "stdout",
     "output_type": "stream",
     "text": [
      "The age of this student is 18\n",
      "This Student is an Adult\n"
     ]
    }
   ],
   "source": [
    "First_name, Last_name, Age, Subject=student\n",
    "print(\"The age of this student is\", Age)\n",
    "if Age>=18:\n",
    "    print(\"This Student is an Adult\")\n",
    "else:\n",
    "    print(\"This student is a minor\")"
   ]
  },
  {
   "cell_type": "markdown",
   "id": "300d4a0d",
   "metadata": {},
   "source": [
    "* Month and Date"
   ]
  },
  {
   "cell_type": "code",
   "execution_count": 8,
   "id": "f73fa110",
   "metadata": {},
   "outputs": [
    {
     "name": "stdout",
     "output_type": "stream",
     "text": [
      "Enter a Month in the year5\n",
      "This was a nice month!\n",
      "May, 31\n",
      "Dec, 31\n"
     ]
    }
   ],
   "source": [
    "month=[]\n",
    "month=int(input(\"Enter a Month in the year\"))\n",
    "if month>=1 and month<=12:\n",
    "    print(\"This was a nice month!\")\n",
    "if month==1:\n",
    "    print(\"Jan, 31\")\n",
    "if month==2:\n",
    "    print(\"Feb, 28\")\n",
    "if month==3:\n",
    "    print(\"Mar, 31\")\n",
    "if month==4:\n",
    "    print(\"Apr, 30\")\n",
    "if month==5:\n",
    "    print(\"May, 31\")\n",
    "if month==6:\n",
    "    print(\"June, 30\")\n",
    "if month==7:\n",
    "    print(\"July, 31\")\n",
    "if month==8:\n",
    "    print(\"Aug, 31\")\n",
    "if month==9:\n",
    "    print(\"Sep, 30\")\n",
    "if month==10:\n",
    "    print(\"Oct, 31\")\n",
    "if month==11:\n",
    "    print(\"Nov, 30\")\n",
    "else:\n",
    "    print(\"Dec, 31\")"
   ]
  },
  {
   "cell_type": "markdown",
   "id": "a3c7f666",
   "metadata": {},
   "source": [
    "* Triangle"
   ]
  },
  {
   "cell_type": "code",
   "execution_count": 1,
   "id": "30fb8484",
   "metadata": {},
   "outputs": [
    {
     "name": "stdout",
     "output_type": "stream",
     "text": [
      "Enter a length for the Hypotenuse: 10\n",
      "Enter a length for the height: 5\n",
      "Enter a length for the width: 1\n",
      "This triangle is scalene\n"
     ]
    }
   ],
   "source": [
    "hypo=int(input(\"Enter a length for the Hypotenuse: \"))\n",
    "height=int(input(\"Enter a length for the height: \"))\n",
    "width=int(input(\"Enter a length for the width: \"))\n",
    "if hypo==height and height==width:\n",
    "    print(\"This triangle is equilateral\")\n",
    "elif height==width and hypo>height:\n",
    "    print(\"This triangle is isosceles\")\n",
    "elif height!=width and width!=height:\n",
    "    print(\"This triangle is scalene\")"
   ]
  },
  {
   "cell_type": "markdown",
   "id": "56da585b",
   "metadata": {},
   "source": [
    "* List Comprehension and Filtering"
   ]
  },
  {
   "cell_type": "code",
   "execution_count": 1,
   "id": "1e0ef3ff",
   "metadata": {},
   "outputs": [],
   "source": [
    "numbers=[21,22,23,24,25,26,27,28,29,30,31,32,33,34,35,36,37,38,39,40]"
   ]
  },
  {
   "cell_type": "code",
   "execution_count": null,
   "id": "d997726b",
   "metadata": {},
   "outputs": [],
   "source": []
  }
 ],
 "metadata": {
  "kernelspec": {
   "display_name": "Python 3 (ipykernel)",
   "language": "python",
   "name": "python3"
  },
  "language_info": {
   "codemirror_mode": {
    "name": "ipython",
    "version": 3
   },
   "file_extension": ".py",
   "mimetype": "text/x-python",
   "name": "python",
   "nbconvert_exporter": "python",
   "pygments_lexer": "ipython3",
   "version": "3.11.4"
  }
 },
 "nbformat": 4,
 "nbformat_minor": 5
}
